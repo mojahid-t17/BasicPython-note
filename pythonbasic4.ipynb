{
  "nbformat": 4,
  "nbformat_minor": 0,
  "metadata": {
    "colab": {
      "provenance": [],
      "authorship_tag": "ABX9TyNfN6+sQYUe82+4ojke9oPO",
      "include_colab_link": true
    },
    "kernelspec": {
      "name": "python3",
      "display_name": "Python 3"
    },
    "language_info": {
      "name": "python"
    }
  },
  "cells": [
    {
      "cell_type": "markdown",
      "metadata": {
        "id": "view-in-github",
        "colab_type": "text"
      },
      "source": [
        "<a href=\"https://colab.research.google.com/github/mojahid-t17/python-practice/blob/main/pythonbasic4.ipynb\" target=\"_parent\"><img src=\"https://colab.research.google.com/assets/colab-badge.svg\" alt=\"Open In Colab\"/></a>"
      ]
    },
    {
      "cell_type": "code",
      "execution_count": null,
      "metadata": {
        "colab": {
          "base_uri": "https://localhost:8080/"
        },
        "id": "fSozgOuPvuvc",
        "outputId": "a343b252-de23-48df-e830-2a863ac247bf"
      },
      "outputs": [
        {
          "output_type": "stream",
          "name": "stdout",
          "text": [
            "iteration no 1 in for loop\n",
            "iteration no 2 in for loop\n",
            "iteration no 3 in for loop\n",
            "iteration no 4 in for loop\n",
            "iteration no 5 in for loop\n",
            "else block in loop\n",
            "Out of loop\n"
          ]
        }
      ],
      "source": [
        "#Python - else in Loop\n",
        "#else execute when the loop is completely execute all the iteration\n",
        "#otherwise doesnt execute\n",
        "for x in range(5):\n",
        "    print (\"iteration no {} in for loop\".format(x+1))\n",
        "else:\n",
        "    print (\"else block in loop\")\n",
        "print (\"Out of loop\")"
      ]
    },
    {
      "cell_type": "code",
      "source": [
        "for i in range(5):\n",
        "  print(i)\n",
        "  if i==3:\n",
        "    break\n",
        "else:\n",
        "  print('loop is iterate all')"
      ],
      "metadata": {
        "colab": {
          "base_uri": "https://localhost:8080/"
        },
        "id": "rcGvUUuowYre",
        "outputId": "111d8342-c93b-4b8e-8be4-8dd86554c3b4"
      },
      "execution_count": null,
      "outputs": [
        {
          "output_type": "stream",
          "name": "stdout",
          "text": [
            "0\n",
            "1\n",
            "2\n",
            "3\n"
          ]
        }
      ]
    },
    {
      "cell_type": "markdown",
      "source": [
        "#**Exception Handling**"
      ],
      "metadata": {
        "id": "2YKNJJVazyTD"
      }
    },
    {
      "cell_type": "code",
      "source": [
        "try:\n",
        "  num=3\n",
        "  num2=b\n",
        "  print(num*num2)\n",
        "\n",
        "except Exception as e:\n",
        "  print(e)\n",
        "print('the line print after the error')"
      ],
      "metadata": {
        "colab": {
          "base_uri": "https://localhost:8080/"
        },
        "id": "t1_xxNCNz0Vz",
        "outputId": "f75939c4-10de-4174-862b-870bc9e86b44"
      },
      "execution_count": null,
      "outputs": [
        {
          "output_type": "stream",
          "name": "stdout",
          "text": [
            "name 'b' is not defined\n",
            "the line print after the error\n"
          ]
        }
      ]
    },
    {
      "cell_type": "code",
      "source": [
        "x=input(\"enter a number \")\n",
        "a=[3,5,4]\n",
        "try:\n",
        "  print(int(x)**2)\n",
        "  print(a[int(x)])\n",
        "except ValueError:\n",
        "\n",
        "  print(\"this is execute for value error\")\n",
        "except IndexError:\n",
        "  print('this is execte for index error')\n",
        "print('this is alwayus execute')"
      ],
      "metadata": {
        "colab": {
          "base_uri": "https://localhost:8080/"
        },
        "id": "X2lUkDnT1RLs",
        "outputId": "123ed082-1808-4a9c-8442-1b1366d66e14"
      },
      "execution_count": null,
      "outputs": [
        {
          "output_type": "stream",
          "name": "stdout",
          "text": [
            "enter a number 0\n",
            "0\n",
            "3\n",
            "this is alwayus execute\n"
          ]
        }
      ]
    },
    {
      "cell_type": "code",
      "source": [
        "#finally keyword:\n",
        "# The finally block is always executed,\n",
        "# so it is generally used for doing the concluding tasks\n",
        "# like closing file resources or closing database connection\n",
        "# or may be ending the program execution with a delightful message.\n",
        "#generally we use a print which always executed , but it is does not work in a method\n",
        "#so then we need to use finally which we need to always executed\n",
        "\n",
        "def myFunction():\n",
        "  try:\n",
        "    l=[1,2,23,3,5]\n",
        "    i= int(input('enter the index: '))\n",
        "    print(l[i])\n",
        "    return 1\n",
        "  except:\n",
        "    print(\" invalid input\")\n",
        "    return 0\n",
        "  # print(' this is always executed')\n",
        "  finally:\n",
        "     print(' this is always executed')\n",
        "x= myFunction()\n",
        "print(x)\n",
        "\n"
      ],
      "metadata": {
        "id": "dgon17MkM6Ag",
        "colab": {
          "base_uri": "https://localhost:8080/"
        },
        "outputId": "502beaff-06bf-4861-edfb-3caa143dff37"
      },
      "execution_count": null,
      "outputs": [
        {
          "output_type": "stream",
          "name": "stdout",
          "text": [
            "enter the index: 2\n",
            "23\n",
            " this is always executed\n",
            "1\n"
          ]
        }
      ]
    },
    {
      "cell_type": "code",
      "source": [
        "#throw error :\n",
        "\n",
        "x=int(input('enter a number upto 5'))\n",
        "if (x<5):\n",
        "  raise ValueError(\"your number is not be accepted less than 5\")"
      ],
      "metadata": {
        "colab": {
          "base_uri": "https://localhost:8080/"
        },
        "id": "4_M1nsSpEPJx",
        "outputId": "a6c30561-ab29-4272-c607-7d31769f7358"
      },
      "execution_count": null,
      "outputs": [
        {
          "name": "stdout",
          "output_type": "stream",
          "text": [
            "enter a number upto 56\n"
          ]
        }
      ]
    }
  ]
}
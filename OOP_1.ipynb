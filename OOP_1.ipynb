{
  "nbformat": 4,
  "nbformat_minor": 0,
  "metadata": {
    "colab": {
      "provenance": [],
      "authorship_tag": "ABX9TyO7xbqS/R8KqktBLZzn8yug",
      "include_colab_link": true
    },
    "kernelspec": {
      "name": "python3",
      "display_name": "Python 3"
    },
    "language_info": {
      "name": "python"
    }
  },
  "cells": [
    {
      "cell_type": "markdown",
      "metadata": {
        "id": "view-in-github",
        "colab_type": "text"
      },
      "source": [
        "<a href=\"https://colab.research.google.com/github/mojahid-t17/BasicPython-note/blob/main/OOP_1.ipynb\" target=\"_parent\"><img src=\"https://colab.research.google.com/assets/colab-badge.svg\" alt=\"Open In Colab\"/></a>"
      ]
    },
    {
      "cell_type": "markdown",
      "source": [
        "#class and object\n"
      ],
      "metadata": {
        "id": "lwmXx-zAmKXY"
      }
    },
    {
      "cell_type": "code",
      "execution_count": null,
      "metadata": {
        "colab": {
          "base_uri": "https://localhost:8080/"
        },
        "id": "BbVyv8D9fgpa",
        "outputId": "f5b2dd91-1a58-4ee9-b90c-fb6a588b8f22"
      },
      "outputs": [
        {
          "output_type": "stream",
          "name": "stdout",
          "text": [
            "the company of car1 Tesla\n",
            "hello this is me\n",
            "color of the car red\n",
            "year of the invention  1991\n",
            "prince of that car 2400$\n",
            "\n",
            "the company of car2:  Tesla\n",
            "color of the car blue\n",
            "year of the invention  2002\n",
            "prince of that car 3000$\n",
            "None\n"
          ]
        }
      ],
      "source": [
        "#class\n",
        "class student:\n",
        "  # print('this is a student of usa')\n",
        "  name=\"jeson\"\n",
        "  age=33\n",
        "  country='usa'\n",
        "\n",
        "#object\n",
        "# s1=student()\n",
        "# print(s1.name)\n",
        "# print(s1.age)\n",
        "\n",
        "class car:\n",
        "  company=\"Tesla\"\n",
        "  owner= \"Elon Mask\"\n",
        "  # print(\"the compnay is\",company)\n",
        "  # print('the owner of the company is: ',owner)\n",
        "  def myinput(self):\n",
        "    print(\"hello this is me\")\n",
        "\n",
        "\n",
        "\n",
        "#define a constructor for that class which execute when initilaze its object\n",
        "  def __init__(self,color,year,price,comment):\n",
        "    self.comment=comment\n",
        "    self.color=color\n",
        "    self.year=year\n",
        "    self.price=price\n",
        "    # print(color)\n",
        "    print('color of the car',color)\n",
        "    print('year of the invention ',year)\n",
        "    print('prince of that car', price)\n",
        "\n",
        "\n",
        "print(\"the company of car1\",car1.company)\n",
        "\n",
        "car1.myinput()\n",
        "car1=car('red',1991,'2400$',\" thanks to all\")\n",
        "\n",
        "print(\"\\nthe company of car2: \",car2.company)\n",
        "car2=car('blue',2002,'3000$',\"thanks again\")\n",
        "\n",
        "\n"
      ]
    },
    {
      "cell_type": "code",
      "source": [
        "\n",
        "#practice problem to solve the avarage :\n",
        "\n",
        "class stdnt:\n",
        "\n",
        "  def __init__(self,name,marks):\n",
        "    self.name=name\n",
        "    self.marks=marks\n",
        "    self.count_avg(marks,name)\n",
        "\n",
        "  def count_avg(self,marks,name):\n",
        "    sum=0\n",
        "\n",
        "    for mark in marks:\n",
        "      sum=sum+mark\n",
        "      avg=sum/len(marks)\n",
        "    print(name)\n",
        "    print(f\"the avarage of {name} is {avg}\")\n",
        "\n",
        "# static method\n",
        "  @staticmethod\n",
        "  def hello(city):\n",
        "    print(city)\n",
        "    print(\"hello hello this is me\")\n",
        "\n",
        "s1=stdnt('john',[2,4,3])\n",
        "\n",
        "s2=stdnt('devid',[10,5,10,7])\n",
        "\n",
        "s1.hello(\"chittagong\")\n"
      ],
      "metadata": {
        "colab": {
          "base_uri": "https://localhost:8080/"
        },
        "id": "i_JEAUh40SMs",
        "outputId": "894ad998-c2b4-4626-930c-e805ddec4828"
      },
      "execution_count": null,
      "outputs": [
        {
          "output_type": "stream",
          "name": "stdout",
          "text": [
            "john\n",
            "the avarage of john is 3.0\n",
            "devid\n",
            "the avarage of devid is 8.0\n",
            "chittagong\n",
            "hello hello this is me\n"
          ]
        }
      ]
    },
    {
      "cell_type": "markdown",
      "source": [
        "#private attribute and method : can not access outside the class"
      ],
      "metadata": {
        "id": "0Wtykmn0kmrS"
      }
    },
    {
      "cell_type": "code",
      "source": [
        "\n",
        "\n",
        "class Account:\n",
        "  def __init__(self,account_no, password):\n",
        "    self.account_no= account_no\n",
        "    # self.password= password\n",
        "    self.__password=password   #make the pssword private\n",
        "\n",
        "  def resetpass(self):\n",
        "   return self.__password #here we can access the password outside the class\n",
        "acc1= Account(124,'abcd1')\n",
        "print(acc1.account_no)\n",
        "# print(acc1.__password)  ////can not access the password as it set private\n",
        "print(acc1.resetpass())\n",
        "\n"
      ],
      "metadata": {
        "id": "4PRRjfJzmQ2Z",
        "colab": {
          "base_uri": "https://localhost:8080/"
        },
        "outputId": "a7cca3ec-109e-4a97-b2a3-65720b4de36a"
      },
      "execution_count": null,
      "outputs": [
        {
          "output_type": "stream",
          "name": "stdout",
          "text": [
            "124\n",
            "abcd1\n"
          ]
        }
      ]
    },
    {
      "cell_type": "code",
      "source": [
        "class Person:\n",
        "  __name=\"anonymous\"\n",
        "\n",
        "  def __hello(self):  #make the method private\n",
        "    print(\" hello mr! this is a private method\")\n",
        "  def welcome(self):\n",
        "    self.__hello()\n",
        "    print(\"welcome method access the hello method\")\n",
        "\n",
        "p1= Person()\n",
        "# print(p1.__hello())  ////that can not be access\n",
        "p1.welcome()\n"
      ],
      "metadata": {
        "colab": {
          "base_uri": "https://localhost:8080/"
        },
        "id": "C1_KQT5jkkUR",
        "outputId": "e4ed8dfc-3466-4700-daa3-81b59461c77e"
      },
      "execution_count": null,
      "outputs": [
        {
          "output_type": "stream",
          "name": "stdout",
          "text": [
            " hello mr! this is a private method\n",
            "welcome method access the hello method\n"
          ]
        }
      ]
    },
    {
      "cell_type": "code",
      "source": [],
      "metadata": {
        "id": "iGormVIamGrp"
      },
      "execution_count": null,
      "outputs": []
    }
  ]
}
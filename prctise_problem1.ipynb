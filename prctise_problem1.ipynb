{
  "nbformat": 4,
  "nbformat_minor": 0,
  "metadata": {
    "colab": {
      "provenance": [],
      "toc_visible": true,
      "authorship_tag": "ABX9TyOlbjklV2saCUqpojBOma0r",
      "include_colab_link": true
    },
    "kernelspec": {
      "name": "python3",
      "display_name": "Python 3"
    },
    "language_info": {
      "name": "python"
    }
  },
  "cells": [
    {
      "cell_type": "markdown",
      "metadata": {
        "id": "view-in-github",
        "colab_type": "text"
      },
      "source": [
        "<a href=\"https://colab.research.google.com/github/mojahid-t17/BasicPython-note/blob/main/prctise_problem1.ipynb\" target=\"_parent\"><img src=\"https://colab.research.google.com/assets/colab-badge.svg\" alt=\"Open In Colab\"/></a>"
      ]
    },
    {
      "cell_type": "code",
      "execution_count": 97,
      "metadata": {
        "colab": {
          "base_uri": "https://localhost:8080/"
        },
        "id": "1WCeIFG6HQdn",
        "outputId": "ad4fe6cd-c5b1-4e60-f2a7-14028ca82221"
      },
      "outputs": [
        {
          "output_type": "stream",
          "name": "stdout",
          "text": [
            "enter a sentence for encode and decode: this is the main sen\n",
            "the encoded sentence: lgfhistgvt si lgfhetgvt lgfainmgvt lgfensgvt\n",
            "the orginal sentence:this is the main sen\n"
          ]
        }
      ],
      "source": [
        "# encoding and deconding\n",
        "# enCoding:\n",
        "# if the word contains atleast 3 characters, remove the first letter and append it at the end\n",
        "# now append three random characters at the starting and the end\n",
        "# else:\n",
        "# simply reverse the string\n",
        "\n",
        "# Decoding:\n",
        "# if the word contains less than 3 characters, reverse it\n",
        "# else:\n",
        "#   remove 3 random characters from start and end. Now remove the last letter and append it to the beginning\n",
        "import string\n",
        "import random\n",
        "rand_char1=\"\".join(random.choices(string.ascii_lowercase,k=3))\n",
        "# print(rand_char1)\n",
        "rand_char2=\"\".join(random.choices(string.ascii_lowercase,k=3))\n",
        "str= input(\"enter a sentence for encode and decode: \")\n",
        "encoded=[]\n",
        "words=str.split(\" \")\n",
        "rand_char=random.choices\n",
        "for word in words:\n",
        "  if(len(word)>=3):\n",
        "    new_word=rand_char1+ word[1:]+ word[0] +rand_char2\n",
        "    # print(new_word)\n",
        "\n",
        "  else:\n",
        "    new_word= word[::-1]\n",
        "  encoded.append(new_word)\n",
        "# print(encoded)\n",
        "final_encode=\" \".join(encoded)\n",
        "print(\"the encoded sentence: \" +final_encode)\n",
        "\n",
        "# decode operation\n",
        "encoded_sen=final_encode.split(' ');\n",
        "decoded=[]\n",
        "for word in encoded_sen:\n",
        "  if(len(word)>=3):\n",
        "    new_word=word[3:-3]\n",
        "    # print(new_word)\n",
        "    org_word=new_word[-1]+ new_word[:-1]\n",
        "    # print(org_word)\n",
        "  else:\n",
        "    org_word=word[::-1]\n",
        "    # print(org_word)\n",
        "  decoded.append(org_word)\n",
        "  # print(org_word)\n",
        "print(\"the orginal sentence:\"+ \" \".join(decoded))\n"
      ]
    },
    {
      "cell_type": "code",
      "source": [
        "import string\n",
        "import random\n",
        "# random string with number and letter from a to z\n",
        "rand_char=\" \".join(random.choices(string.ascii_lowercase + string.digits, k=3))\n",
        "# random string only with letter a to z:\n",
        "rand_char2=\" \".join(random.choices(string.ascii_lowercase , k=3))\n",
        "print(rand_char)\n",
        "print(rand_char2)"
      ],
      "metadata": {
        "colab": {
          "base_uri": "https://localhost:8080/"
        },
        "id": "hluZYrSzvKDp",
        "outputId": "c032597e-19aa-47c8-ea86-84776fb672ed"
      },
      "execution_count": 33,
      "outputs": [
        {
          "output_type": "stream",
          "name": "stdout",
          "text": [
            "w e u\n",
            "y b o\n"
          ]
        }
      ]
    },
    {
      "cell_type": "code",
      "source": [
        "print(random.choices(string.ascii_lowercase + string.digits, k=3))"
      ],
      "metadata": {
        "colab": {
          "base_uri": "https://localhost:8080/"
        },
        "id": "kYudv1yfzNLl",
        "outputId": "2279f5db-149d-41ab-f6cf-9971c8532d21"
      },
      "execution_count": 43,
      "outputs": [
        {
          "output_type": "stream",
          "name": "stdout",
          "text": [
            "['g', 'r', 'h']\n"
          ]
        }
      ]
    },
    {
      "cell_type": "markdown",
      "source": [
        "# New Section"
      ],
      "metadata": {
        "id": "kmfmJus7Hnwq"
      }
    }
  ]
}
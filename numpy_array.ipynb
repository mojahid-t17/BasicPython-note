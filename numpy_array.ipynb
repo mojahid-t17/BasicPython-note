{
  "nbformat": 4,
  "nbformat_minor": 0,
  "metadata": {
    "colab": {
      "provenance": [],
      "authorship_tag": "ABX9TyOWRm99Dnur5IptRiUNHHxy",
      "include_colab_link": true
    },
    "kernelspec": {
      "name": "python3",
      "display_name": "Python 3"
    },
    "language_info": {
      "name": "python"
    }
  },
  "cells": [
    {
      "cell_type": "markdown",
      "metadata": {
        "id": "view-in-github",
        "colab_type": "text"
      },
      "source": [
        "<a href=\"https://colab.research.google.com/github/mojahid-t17/BasicPython-note/blob/main/numpy_array.ipynb\" target=\"_parent\"><img src=\"https://colab.research.google.com/assets/colab-badge.svg\" alt=\"Open In Colab\"/></a>"
      ]
    },
    {
      "cell_type": "markdown",
      "source": [
        "Numpy is a Python library that provides a multidimensional array object, various derived objects (such as masked arrays and matrices), and an assortment of routines for fast operations on arrays, including mathematical, logical, shape manipulation, sorting, selecting, I/O, discrete Fourier transforms, basic linear algebra, basic statistical operations, random simulation and much more.\n",
        "\n",
        "\n",
        "* The elements in a NumPy array are all required to be of the same data type, and thus will be the same size in memory.\n",
        "\n"
      ],
      "metadata": {
        "id": "v9Q1a3fahCKP"
      }
    },
    {
      "cell_type": "code",
      "source": [
        "#istall numpy: !pip install  numpy\n",
        "#list import different data type but in array only can impoprt same data type\n",
        "#list can not do mathmatical operation but in numpy we can do that\n",
        "a=[4,'list',34.5]\n",
        "print(a)\n",
        "lst_1= [1,2,3]\n",
        "lst_2=[34,23,3]\n",
        "print(lst_1+lst_2)\n",
        "\n",
        "import numpy as np\n",
        "arr_1=np.array([1,2,3])\n",
        "arr_2=np.array([34,23,3])\n",
        "print(arr_1+arr_2)"
      ],
      "metadata": {
        "colab": {
          "base_uri": "https://localhost:8080/"
        },
        "id": "4JffsYr6hYDC",
        "outputId": "de2c9c9d-ab3c-4b05-d147-715078062dd0"
      },
      "execution_count": 1,
      "outputs": [
        {
          "output_type": "stream",
          "name": "stdout",
          "text": [
            "[4, 'list', 34.5]\n",
            "[1, 2, 3, 34, 23, 3]\n",
            "[35 25  6]\n"
          ]
        }
      ]
    },
    {
      "cell_type": "code",
      "execution_count": null,
      "metadata": {
        "colab": {
          "base_uri": "https://localhost:8080/"
        },
        "id": "2XsLdWjAUW8z",
        "outputId": "96af6cde-94a3-4ec0-85f9-ec35d01de98f"
      },
      "outputs": [
        {
          "output_type": "stream",
          "name": "stdout",
          "text": [
            "[1, 2, 3, 34, 23, 3]\n",
            "[2 3 4]\n",
            "[1 2 3]\n",
            "<class 'numpy.ndarray'>\n"
          ]
        }
      ],
      "source": [
        "import numpy as np\n",
        "\n",
        "#create numpy array by passing list\n",
        "a= np.array([2,3,4])\n",
        "# create array by passing touple\n",
        "b=np.array((1,2,3))\n",
        "print(a)\n",
        "print(b)\n",
        "print(type(a))\n"
      ]
    },
    {
      "cell_type": "code",
      "source": [
        "#array dimention:\n",
        "\n",
        "#/// 0 dimention\n",
        "import numpy as np\n",
        "a=np.array(34)\n",
        "print(\"dimention of a \",a.ndim)\n",
        "\n",
        "# /// 1 dimention\n",
        "b= np.array([1,2,3])\n",
        "print(b)\n",
        "print(\"dimention of b \",b.ndim)\n",
        "\n",
        "# 2 dimention\n",
        "c=np.array([[1,2,3],[4,5,6]])\n",
        "print(c)\n",
        "# print(c)\n",
        "print(\"dimention of c \",c.ndim)"
      ],
      "metadata": {
        "id": "ED69-Y9XU65n",
        "colab": {
          "base_uri": "https://localhost:8080/"
        },
        "outputId": "ecc71aa1-93d8-40bf-c727-9259b14f1273"
      },
      "execution_count": 2,
      "outputs": [
        {
          "output_type": "stream",
          "name": "stdout",
          "text": [
            "dimention of a  0\n",
            "[1 2 3]\n",
            "dimention of b  1\n",
            "[[1 2 3]\n",
            " [4 5 6]]\n",
            "dimention of c  2\n"
          ]
        }
      ]
    },
    {
      "cell_type": "code",
      "source": [
        "#array slicing :\n",
        "import numpy as np\n",
        "\n",
        "arr=np.array([[20,30,40,50],[60,70,80,90],[10,30,34,20]])\n",
        "# print(arr)\n",
        "print(arr[0])\n",
        "print(arr[0:2])\n",
        "print(\"the selected second row elements\",arr[1,1:3])\n"
      ],
      "metadata": {
        "colab": {
          "base_uri": "https://localhost:8080/"
        },
        "id": "YfMH1eOqpHpO",
        "outputId": "ffd90884-eea8-40d1-a212-24616bad77dd"
      },
      "execution_count": 3,
      "outputs": [
        {
          "output_type": "stream",
          "name": "stdout",
          "text": [
            "[20 30 40 50]\n",
            "[[20 30 40 50]\n",
            " [60 70 80 90]]\n",
            "the selected second row elements [70 80]\n"
          ]
        }
      ]
    },
    {
      "cell_type": "code",
      "source": [
        "#find the row colomn of a matrix\n",
        "import numpy as np\n",
        "\n",
        "arr=np.array([[20,30,40,50],[60,70,80,90],[10,30,34,20]])\n",
        "print(np.shape(arr))\n",
        "\n",
        "print(\"reshape the matrix 3 X 4\")\n",
        "print(arr.reshape(4,3))\n",
        "#total element\n",
        "# print(np.size(arr))\n",
        "print(arr.size)\n",
        "print(arr.dtype)\n",
        "#convert data type\n",
        "print(arr.astype(str))"
      ],
      "metadata": {
        "colab": {
          "base_uri": "https://localhost:8080/"
        },
        "id": "PIr20W6FqVs-",
        "outputId": "461ed319-c4b0-44ac-a1a8-95f02b6e17b4"
      },
      "execution_count": null,
      "outputs": [
        {
          "output_type": "stream",
          "name": "stdout",
          "text": [
            "(3, 4)\n",
            "reshape the matrix 3 X 4\n",
            "[[20 30 40]\n",
            " [50 60 70]\n",
            " [80 90 10]\n",
            " [30 34 20]]\n",
            "12\n",
            "int64\n",
            "[['20' '30' '40' '50']\n",
            " ['60' '70' '80' '90']\n",
            " ['10' '30' '34' '20']]\n"
          ]
        }
      ]
    },
    {
      "cell_type": "code",
      "source": [
        "\n",
        "\n",
        "#concatenate array\n",
        "arr_1=np.array([10,20,30])\n",
        "arr_2=np.array([34,23,3])\n",
        "print(np.concatenate([arr_1,arr_2]))\n",
        "\n"
      ],
      "metadata": {
        "colab": {
          "base_uri": "https://localhost:8080/"
        },
        "id": "plDeNFoHvpZM",
        "outputId": "d95c9f8e-1dc6-445c-952d-00bec5ed7d95"
      },
      "execution_count": 5,
      "outputs": [
        {
          "output_type": "stream",
          "name": "stdout",
          "text": [
            "[10 20 30 34 23  3]\n"
          ]
        }
      ]
    },
    {
      "cell_type": "code",
      "source": [
        "# concatenaete 2 matrix horizontally (x axis)\n",
        "\n",
        "arr1=np.array([[20 ,30, 40 ],[60, 70, 80 ],[10, 30 ,34]])\n",
        "arr2=np.array([[5,15,25],[4,14,24],[9,99,19]])\n",
        "\n",
        "print(np.concatenate([arr1,arr2],axis=1))\n",
        "print(\"\\n\",np.hstack([arr1,arr2]))"
      ],
      "metadata": {
        "colab": {
          "base_uri": "https://localhost:8080/"
        },
        "id": "KpL0C3y-vxub",
        "outputId": "e3340f28-c271-4f71-e77e-259315c66dd5"
      },
      "execution_count": null,
      "outputs": [
        {
          "output_type": "stream",
          "name": "stdout",
          "text": [
            "[[20 30 40  5 15 25]\n",
            " [60 70 80  4 14 24]\n",
            " [10 30 34  9 99 19]]\n",
            "\n",
            " [[20 30 40  5 15 25]\n",
            " [60 70 80  4 14 24]\n",
            " [10 30 34  9 99 19]]\n"
          ]
        }
      ]
    },
    {
      "cell_type": "code",
      "source": [
        "#vertical concatenate:\n",
        "# concatenaete 2 matrix vertically (y axis)\n",
        "import numpy as np\n",
        "\n",
        "arr1=np.array([[20 ,30, 40 ],[60, 70, 80 ],[10, 30 ,34]])\n",
        "arr2=np.array([[5,15,25],[4,14,24],[9,99,19]])\n",
        "\n",
        "# print(np.concatenate([arr1,arr2],axis=0))\n",
        "print(np.vstack([arr1,arr2]))"
      ],
      "metadata": {
        "colab": {
          "base_uri": "https://localhost:8080/"
        },
        "id": "kte2L0ku0G4t",
        "outputId": "e7ce0534-a1f0-4254-a5dd-bc6e30af6d3b"
      },
      "execution_count": null,
      "outputs": [
        {
          "output_type": "stream",
          "name": "stdout",
          "text": [
            "[[20 30 40]\n",
            " [60 70 80]\n",
            " [10 30 34]\n",
            " [ 5 15 25]\n",
            " [ 4 14 24]\n",
            " [ 9 99 19]]\n"
          ]
        }
      ]
    },
    {
      "cell_type": "code",
      "source": [
        "#array split\n",
        "import numpy as np\n",
        "x=np.array([1,2,3,4,5,6,7,8])\n",
        "arr=np.array([[20,30,40,50],[60,70,80,90],[10,30,34,20]])\n",
        "print(np.array_split(arr,2))\n",
        "y=np.array_split(x,3)\n",
        "print(y)\n",
        "print(y[1])\n"
      ],
      "metadata": {
        "colab": {
          "base_uri": "https://localhost:8080/"
        },
        "id": "ELQBqD7J62pJ",
        "outputId": "4ef35dfd-4cc0-4a22-f0fc-4b9fd2c5529a"
      },
      "execution_count": 12,
      "outputs": [
        {
          "output_type": "stream",
          "name": "stdout",
          "text": [
            "[array([[20, 30, 40, 50],\n",
            "       [60, 70, 80, 90]]), array([[10, 30, 34, 20]])]\n",
            "[array([1, 2, 3]), array([4, 5, 6]), array([7, 8])]\n",
            "[4 5 6]\n"
          ]
        }
      ]
    },
    {
      "cell_type": "code",
      "source": [
        "#generate number by np\n",
        "import numpy as np\n",
        "\n",
        "print(np.arange(20))\n",
        "\n",
        "#we can define the differnce the number:\n",
        "\n",
        "print(np.arange(1,20,2))"
      ],
      "metadata": {
        "colab": {
          "base_uri": "https://localhost:8080/"
        },
        "id": "Ay0F-OBaQAET",
        "outputId": "113c7fb9-0d61-423b-ea7f-4e2d6d316530"
      },
      "execution_count": 16,
      "outputs": [
        {
          "output_type": "stream",
          "name": "stdout",
          "text": [
            "[ 0  1  2  3  4  5  6  7  8  9 10 11 12 13 14 15 16 17 18 19]\n",
            "[ 1  3  5  7  9 11 13 15 17 19]\n"
          ]
        }
      ]
    },
    {
      "cell_type": "code",
      "source": [
        "#create matrix by zero or one\n",
        "\n",
        "print(np.zeros((2,3)))\n",
        "\n",
        "print(np.ones((2,3)))\n",
        "\n",
        "#create random number\n",
        "\n",
        "print(np.random.random((1,3)))"
      ],
      "metadata": {
        "colab": {
          "base_uri": "https://localhost:8080/"
        },
        "id": "ID6i7xvZWILx",
        "outputId": "af989655-129e-4268-b39d-dfb91d8ccdbf"
      },
      "execution_count": 17,
      "outputs": [
        {
          "output_type": "stream",
          "name": "stdout",
          "text": [
            "[[0. 0. 0.]\n",
            " [0. 0. 0.]]\n",
            "[[1. 1. 1.]\n",
            " [1. 1. 1.]]\n",
            "[[0.57385057 0.80033496 0.87757107]]\n"
          ]
        }
      ]
    },
    {
      "cell_type": "code",
      "source": [
        "#linearly spaced array: provide the linear difference array between a range\n",
        "#first two parameter is the range and lst is the total number of item that you want between this range\n",
        "\n",
        "import numpy as np\n",
        "\n",
        "print(np.linspace(-2,10,5))"
      ],
      "metadata": {
        "colab": {
          "base_uri": "https://localhost:8080/"
        },
        "id": "A6tlkpFbYakI",
        "outputId": "262d3807-c238-43c5-aae8-99e2d1b66121"
      },
      "execution_count": 18,
      "outputs": [
        {
          "output_type": "stream",
          "name": "stdout",
          "text": [
            "[-2.  1.  4.  7. 10.]\n"
          ]
        }
      ]
    },
    {
      "cell_type": "code",
      "source": [
        "#create identity matrix:\n",
        "np.identity(3)"
      ],
      "metadata": {
        "colab": {
          "base_uri": "https://localhost:8080/"
        },
        "id": "SHFaRxxxcvbz",
        "outputId": "47b33a93-5de3-4b58-b61d-2ca37cc7e9f6"
      },
      "execution_count": 19,
      "outputs": [
        {
          "output_type": "execute_result",
          "data": {
            "text/plain": [
              "array([[1., 0., 0.],\n",
              "       [0., 1., 0.],\n",
              "       [0., 0., 1.]])"
            ]
          },
          "metadata": {},
          "execution_count": 19
        }
      ]
    },
    {
      "cell_type": "code",
      "source": [
        "a=np.arange(1,13).reshape(4,3)\n",
        "arr=a*10\n",
        "\n",
        "print(arr)"
      ],
      "metadata": {
        "colab": {
          "base_uri": "https://localhost:8080/"
        },
        "id": "J1FCbJWUzGL1",
        "outputId": "f4ea5568-4b0b-4a8d-e016-d82e6e031f1a"
      },
      "execution_count": 20,
      "outputs": [
        {
          "output_type": "stream",
          "name": "stdout",
          "text": [
            "[[ 10  20  30]\n",
            " [ 40  50  60]\n",
            " [ 70  80  90]\n",
            " [100 110 120]]\n"
          ]
        }
      ]
    },
    {
      "cell_type": "code",
      "source": [
        "import numpy as np\n",
        "np.max(arr)\n",
        "\n",
        "# find the  largest item of all colomn\n",
        "np.max(arr,axis=0)\n",
        "#find the largest item of all row\n",
        "\n",
        "np.max(arr,axis=1)"
      ],
      "metadata": {
        "colab": {
          "base_uri": "https://localhost:8080/"
        },
        "id": "8nQMx61ozyHO",
        "outputId": "9a9fe4eb-aac2-4817-b9f8-0bf1edc883b4"
      },
      "execution_count": 21,
      "outputs": [
        {
          "output_type": "execute_result",
          "data": {
            "text/plain": [
              "array([ 30,  60,  90, 120])"
            ]
          },
          "metadata": {},
          "execution_count": 21
        }
      ]
    },
    {
      "cell_type": "code",
      "source": [
        "np.min(arr)\n",
        "# find the product of all elements\n",
        "x=np.array([[1,2,3],[4,5,6]])\n",
        "np.prod(x)\n",
        "\n",
        "# dot product of two matrix /m x n * n x c = m x c\n",
        "a1=np.arange(12).reshape(4,3)\n",
        "a2=np.arange(13,25).reshape(3,4)\n",
        "print(f\"a1= {a1}\")\n",
        "print(f\"a2={a2}\")\n",
        "print(np.dot(a1,a2))"
      ],
      "metadata": {
        "colab": {
          "base_uri": "https://localhost:8080/"
        },
        "id": "Dp0258CUZzPJ",
        "outputId": "f496b1fc-4abb-4a19-d52a-556438545a42"
      },
      "execution_count": 27,
      "outputs": [
        {
          "output_type": "stream",
          "name": "stdout",
          "text": [
            "a1= [[ 0  1  2]\n",
            " [ 3  4  5]\n",
            " [ 6  7  8]\n",
            " [ 9 10 11]]\n",
            "a2=[[13 14 15 16]\n",
            " [17 18 19 20]\n",
            " [21 22 23 24]]\n",
            "[[ 59  62  65  68]\n",
            " [212 224 236 248]\n",
            " [365 386 407 428]\n",
            " [518 548 578 608]]\n"
          ]
        }
      ]
    },
    {
      "cell_type": "code",
      "source": [
        "# find the log and exponential of all elements\n",
        "x1=np.log(a2)\n",
        "print(x1)\n",
        "x2=np.exp(a2)\n",
        "print(x2)"
      ],
      "metadata": {
        "colab": {
          "base_uri": "https://localhost:8080/"
        },
        "id": "VzegrHUqcn0h",
        "outputId": "c30d0f4d-c279-4f4f-9d57-6b53c82a4778"
      },
      "execution_count": null,
      "outputs": [
        {
          "output_type": "stream",
          "name": "stdout",
          "text": [
            "[[2.56494936 2.63905733 2.7080502  2.77258872]\n",
            " [2.83321334 2.89037176 2.94443898 2.99573227]\n",
            " [3.04452244 3.09104245 3.13549422 3.17805383]]\n",
            "[[4.42413392e+05 1.20260428e+06 3.26901737e+06 8.88611052e+06]\n",
            " [2.41549528e+07 6.56599691e+07 1.78482301e+08 4.85165195e+08]\n",
            " [1.31881573e+09 3.58491285e+09 9.74480345e+09 2.64891221e+10]]\n"
          ]
        }
      ]
    },
    {
      "cell_type": "code",
      "source": [
        "#find the floor cell and round value\n",
        "\n",
        "print(np.ceil(x1))\n",
        "print(np.floor(x1))\n",
        "print(np.round(x1))"
      ],
      "metadata": {
        "colab": {
          "base_uri": "https://localhost:8080/"
        },
        "id": "ll0M_g9mdGow",
        "outputId": "91e25b54-0cab-4bf4-829d-1c5124a8d080"
      },
      "execution_count": null,
      "outputs": [
        {
          "output_type": "stream",
          "name": "stdout",
          "text": [
            "[[3. 3. 3. 3.]\n",
            " [3. 3. 3. 3.]\n",
            " [4. 4. 4. 4.]]\n",
            "[[2. 2. 2. 2.]\n",
            " [2. 2. 2. 2.]\n",
            " [3. 3. 3. 3.]]\n",
            "[[3. 3. 3. 3.]\n",
            " [3. 3. 3. 3.]\n",
            " [3. 3. 3. 3.]]\n"
          ]
        }
      ]
    }
  ]
}
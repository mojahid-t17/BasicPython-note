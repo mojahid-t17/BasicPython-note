{
  "nbformat": 4,
  "nbformat_minor": 0,
  "metadata": {
    "colab": {
      "provenance": [],
      "authorship_tag": "ABX9TyOt5nFL+J5h500UFUS4gK5l",
      "include_colab_link": true
    },
    "kernelspec": {
      "name": "python3",
      "display_name": "Python 3"
    },
    "language_info": {
      "name": "python"
    }
  },
  "cells": [
    {
      "cell_type": "markdown",
      "metadata": {
        "id": "view-in-github",
        "colab_type": "text"
      },
      "source": [
        "<a href=\"https://colab.research.google.com/github/mojahid-t17/BasicPython-note/blob/main/OOP2.ipynb\" target=\"_parent\"><img src=\"https://colab.research.google.com/assets/colab-badge.svg\" alt=\"Open In Colab\"/></a>"
      ]
    },
    {
      "cell_type": "code",
      "execution_count": null,
      "metadata": {
        "colab": {
          "base_uri": "https://localhost:8080/"
        },
        "collapsed": true,
        "id": "ybtEpk5asCCX",
        "outputId": "05cb4765-5d58-463e-c353-9dc2ddfbfd3b"
      },
      "outputs": [
        {
          "output_type": "stream",
          "name": "stdout",
          "text": [
            "tesla\n",
            "the vicle is started\n",
            "the vehicle is stopped\n"
          ]
        }
      ],
      "source": [
        "# Inheritence: single inheritence\n",
        "class Vehicle:\n",
        "  #static method can not change class attribute\n",
        "  @staticmethod\n",
        "  def start():\n",
        "    print(\"the vicle is started\")\n",
        "  @staticmethod\n",
        "  def stop():\n",
        "    print(\"the vehicle is stopped\")\n",
        "class Bus(Vehicle):\n",
        "  def __init__(self,name):\n",
        "    self.name=name\n",
        "\n",
        "b1=Bus(\"tesla\")\n",
        "print(b1.name)\n",
        "b1.start() #here we can access the start method for inheritence\n",
        "b1.stop()"
      ]
    },
    {
      "cell_type": "code",
      "source": [
        "#multilevel inheritence\n",
        "class Vehicle:\n",
        "  @staticmethod\n",
        "  def start():\n",
        "    print(\"the vicle is started\")\n",
        "  @staticmethod\n",
        "  def stop():\n",
        "    print(\"the vehicle is stopped\")\n",
        "\n",
        "class Bus(Vehicle):\n",
        "  def __init__(self,name):\n",
        "    self.name=name\n",
        "\n",
        "class Toyota(Bus):\n",
        "  def __init__(self,color):\n",
        "    self.color=color\n",
        "    print(\"the color is\",color)\n",
        "\n",
        "t1= Toyota(\"Red\")\n",
        "\n",
        "print(t1.start())"
      ],
      "metadata": {
        "colab": {
          "base_uri": "https://localhost:8080/"
        },
        "id": "DG67cpxUtx7P",
        "outputId": "1a34a26d-13c2-4730-e45a-154c9442639b"
      },
      "execution_count": null,
      "outputs": [
        {
          "output_type": "stream",
          "name": "stdout",
          "text": [
            "the color is Red\n",
            "the vicle is started\n",
            "None\n"
          ]
        }
      ]
    },
    {
      "cell_type": "code",
      "source": [
        "#super method:\n",
        "\n",
        "class Vehicle:\n",
        "  @staticmethod\n",
        "  def start():\n",
        "    print(\"the vicle is started\")\n",
        "  @staticmethod\n",
        "  def stop():\n",
        "    print(\"the vehicle is stopped\")\n",
        "\n",
        "class Bus(Vehicle):\n",
        "  def __init__(self,name):\n",
        "    self.name=name\n",
        "\n",
        "class Toyota(Bus):\n",
        "  def __init__(self,color,name):\n",
        "    super().__init__(name)\n",
        "    self.color=color\n",
        "    print(\"the color is\",color)\n",
        "    print(\"the name of the bus is \",name)\n",
        "\n",
        "t1= Toyota(\"Red\",\"dubai Express\")\n",
        "\n",
        "print(t1.start())"
      ],
      "metadata": {
        "colab": {
          "base_uri": "https://localhost:8080/"
        },
        "id": "9em52S2qgQkf",
        "outputId": "9e08803d-906b-408b-e5e5-1502f88ae553"
      },
      "execution_count": null,
      "outputs": [
        {
          "output_type": "stream",
          "name": "stdout",
          "text": [
            "the color is Red\n",
            "the name of the bus is  dubai Express\n",
            "the vicle is started\n",
            "None\n"
          ]
        }
      ]
    },
    {
      "cell_type": "code",
      "source": [
        "#multiple inheritence:\n",
        "class A:\n",
        "  varA=\"this is from class A\"\n",
        "class B:\n",
        "  varB=\"this is from class B\"\n",
        "class c(A,B):\n",
        "  varC=\"this from class C\"\n",
        "c1=c()\n",
        "print(c1.varA)\n",
        "print(c1.varB)\n",
        "print(c1.varC)"
      ],
      "metadata": {
        "colab": {
          "base_uri": "https://localhost:8080/"
        },
        "id": "YXGsu3USer_Z",
        "outputId": "f5041075-8d01-4daf-ab6f-174dab170514"
      },
      "execution_count": null,
      "outputs": [
        {
          "output_type": "stream",
          "name": "stdout",
          "text": [
            "this is from class A\n",
            "this is from class B\n",
            "this from class C\n"
          ]
        }
      ]
    },
    {
      "cell_type": "code",
      "source": [
        "#class method:\n",
        "\n",
        "class Person:\n",
        "  name=\"anonymous\"\n",
        "\n",
        "  # def newName(self,name):\n",
        "  #   # self.name=name\n",
        "  #   Person.name=name\n",
        "\n",
        "\n",
        "  @classmethod\n",
        "  def newName(cls,name):\n",
        "    cls.name=name    #the class method excute like person.name=name\n",
        "\n",
        "p1=Person()\n",
        "p1.newName(\"Mr Alex\")\n",
        "print(p1.name)\n",
        "\n",
        "print(Person.name)\n",
        "\n"
      ],
      "metadata": {
        "colab": {
          "base_uri": "https://localhost:8080/"
        },
        "id": "0AfrWp8rleA9",
        "outputId": "fdf30b30-9f39-4b63-8afd-1c9563f1e8af"
      },
      "execution_count": null,
      "outputs": [
        {
          "output_type": "stream",
          "name": "stdout",
          "text": [
            "Mr Alex\n",
            "Mr Alex\n"
          ]
        }
      ]
    },
    {
      "cell_type": "code",
      "source": [
        "#property: use to change a method as attribute\n",
        "\n",
        "class Marks:\n",
        "  def __init__(self,phy,che,math):\n",
        "    self.phy=phy\n",
        "    self.che=che\n",
        "    self.math=math\n",
        "    # self.avg=(phy+che+math)/3\n",
        "  # def calcAvg(self):\n",
        "  #   self.avg=(self.phy+self.che+self.math)/3\n",
        "  @property\n",
        "  def avg(self):\n",
        "    return (self.phy+self.che+self.math)/3\n",
        "s1=Marks(50,60,70)\n",
        "s1.math=10\n",
        "# s1.calcAvg()\n",
        "print(s1.avg)\n"
      ],
      "metadata": {
        "colab": {
          "base_uri": "https://localhost:8080/"
        },
        "id": "SnDvOhjJw71U",
        "outputId": "1c5f4947-bd27-4ce4-df85-7399b508125f"
      },
      "execution_count": null,
      "outputs": [
        {
          "output_type": "stream",
          "name": "stdout",
          "text": [
            "40.0\n"
          ]
        }
      ]
    }
  ]
}
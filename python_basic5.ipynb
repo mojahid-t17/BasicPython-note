{
  "nbformat": 4,
  "nbformat_minor": 0,
  "metadata": {
    "colab": {
      "provenance": [],
      "authorship_tag": "ABX9TyMsJLboSP0w9EgyKvT1z0Mm"
    },
    "kernelspec": {
      "name": "python3",
      "display_name": "Python 3"
    },
    "language_info": {
      "name": "python"
    }
  },
  "cells": [
    {
      "cell_type": "markdown",
      "source": [
        "**File INput output :**\n",
        "`text-file `: .txt, .docs,\n",
        "\n",
        "  binary file: .mov, .mp4, .png -->\n",
        " mode\n",
        "\n",
        " 'r'---> for reading\n",
        "\n",
        " 'w'---> for writting if the file exist, otherwise create the file and open for writting\n",
        "\n",
        " 'x' --> create a new file\n",
        "\n",
        " 'a'-->  open a file for writting and\n",
        "         append at the end of the existing file\n",
        "\n",
        "'b'--> binary mode like 'br'-read a\n",
        "       binary file\n",
        "\n",
        "'+'--> open a desk file for updating ,\n",
        "     like 'r+'-reading and writng, 'a+'-reading and append"
      ],
      "metadata": {
        "id": "ELlrIn5PNAe4"
      }
    },
    {
      "cell_type": "code",
      "source": [
        "#  <!-- open read a file -->\n",
        "# open the file named demo.txt: open('demo.txt','mode')\n",
        "f=open('demo.txt','r')\n",
        "text=f.read();\n",
        "print(type(text))\n",
        "print(text)\n",
        "# f.close()\n",
        "\n",
        "\n"
      ],
      "metadata": {
        "colab": {
          "base_uri": "https://localhost:8080/"
        },
        "id": "Ls6Kv5eiND-z",
        "outputId": "217980f8-cb05-4f83-cdbe-529d1deb20d8"
      },
      "execution_count": null,
      "outputs": [
        {
          "output_type": "stream",
          "name": "stdout",
          "text": [
            "<class 'str'>\n",
            "hello this is a text file. \n",
            "i am writting something here\n",
            "hello this is a text file. \n",
            "i am writting something here\n"
          ]
        }
      ]
    },
    {
      "cell_type": "code",
      "source": [
        "f=open('demo.txt','r')\n",
        "# read a line\n",
        "line1=f.readline()\n",
        "line2=f.readline()\n",
        "print(line1)\n",
        "print(line2)"
      ],
      "metadata": {
        "colab": {
          "base_uri": "https://localhost:8080/"
        },
        "id": "xUqeQE1qZNVv",
        "outputId": "a56cf166-0239-4fee-c656-6884f226079d"
      },
      "execution_count": null,
      "outputs": [
        {
          "output_type": "stream",
          "name": "stdout",
          "text": [
            "hello this is a text file. \n",
            "\n",
            "i am writting something here\n"
          ]
        }
      ]
    },
    {
      "cell_type": "code",
      "source": [
        "f=open('demo.txt','r')\n",
        "# read all lines\n",
        "lines=f.readlines()\n",
        "print(lines)"
      ],
      "metadata": {
        "colab": {
          "base_uri": "https://localhost:8080/"
        },
        "id": "xNkOvIxRal_K",
        "outputId": "98cd558d-299c-4c86-823c-ca8e5fdc7c35"
      },
      "execution_count": null,
      "outputs": [
        {
          "output_type": "stream",
          "name": "stdout",
          "text": [
            "['hello this is a text file. \\n', 'i am writting something here']\n"
          ]
        }
      ]
    },
    {
      "cell_type": "code",
      "source": [
        "# write and append\n",
        "f=open('demo.txt','w')\n",
        "f.write('i am writting something . the old document is trancate and this is replace on this')\n",
        "\n",
        "f.close()\n",
        "\n"
      ],
      "metadata": {
        "id": "XxeIDaPndmqT"
      },
      "execution_count": null,
      "outputs": []
    },
    {
      "cell_type": "code",
      "source": [
        "f=open('demo.txt','a')\n",
        "f.write('\\nhello..this is appended at the end of the context')\n",
        "f.close()\n"
      ],
      "metadata": {
        "id": "CtKB5hR3fCYM"
      },
      "execution_count": null,
      "outputs": []
    },
    {
      "cell_type": "code",
      "source": [
        "f=open('demo.txt','r')\n",
        "print(f.read())"
      ],
      "metadata": {
        "colab": {
          "base_uri": "https://localhost:8080/"
        },
        "id": "8eVbK25uf65B",
        "outputId": "097bc42d-7a3a-407c-dbf2-e53803a53c1a"
      },
      "execution_count": null,
      "outputs": [
        {
          "output_type": "stream",
          "name": "stdout",
          "text": [
            "i am writting something . the old document is trancate and this is replace on this\n",
            "hello..this is appended at the end of the context\n"
          ]
        }
      ]
    },
    {
      "cell_type": "code",
      "source": [
        "# 'r+' --> read and write , not truncate . pointer start\n",
        "#append the content at first\n",
        "f=open('demo.txt','r+')\n",
        "f.write('find it')\n",
        "print(f.read())"
      ],
      "metadata": {
        "colab": {
          "base_uri": "https://localhost:8080/"
        },
        "id": "zC3zftWggaSn",
        "outputId": "cc7319f2-26a4-4e3f-fab6-d8b50d7dd577"
      },
      "execution_count": null,
      "outputs": [
        {
          "output_type": "stream",
          "name": "stdout",
          "text": [
            "ellong something . the old document is trancate and this is replace on thishello hellohello hello\n"
          ]
        }
      ]
    },
    {
      "cell_type": "code",
      "source": [
        "# 'w+' --> read and write , trancate (all the text are deleted)\n",
        "f=open('demo.txt','w+')\n",
        "f.write('this is new text')\n",
        "print(f.read())"
      ],
      "metadata": {
        "colab": {
          "base_uri": "https://localhost:8080/"
        },
        "id": "boPQ7HtgjcS5",
        "outputId": "2b5a9b5a-246d-4399-d7cf-2da6bb0eb258"
      },
      "execution_count": null,
      "outputs": [
        {
          "output_type": "stream",
          "name": "stdout",
          "text": [
            "\n"
          ]
        }
      ]
    },
    {
      "cell_type": "code",
      "source": [
        "# \"a+\"-->\n",
        "f=open('demo.txt','a+')\n",
        "# f.write('\\nthis is appended by a+')\n",
        "print(f.read())\n",
        "f.close()"
      ],
      "metadata": {
        "colab": {
          "base_uri": "https://localhost:8080/"
        },
        "id": "CTBjpg7nkdRJ",
        "outputId": "c6cde8d0-c5eb-40f5-efad-014ef32e17e3"
      },
      "execution_count": null,
      "outputs": [
        {
          "output_type": "stream",
          "name": "stdout",
          "text": [
            "\n"
          ]
        }
      ]
    },
    {
      "cell_type": "code",
      "source": [
        "# using with no need to close function.\n",
        "with open('demo.txt','r') as f:\n",
        "  text=f.read()\n",
        "  print(text)\n"
      ],
      "metadata": {
        "colab": {
          "base_uri": "https://localhost:8080/"
        },
        "id": "zRbPnICFnB_f",
        "outputId": "abc78293-2262-4c85-ab96-4ecb1e5b0e19"
      },
      "execution_count": null,
      "outputs": [
        {
          "output_type": "stream",
          "name": "stdout",
          "text": [
            "this is new textthis is appended by a+/nthis is appended by a+\n",
            "this is appended by a+\n"
          ]
        }
      ]
    }
  ]
}
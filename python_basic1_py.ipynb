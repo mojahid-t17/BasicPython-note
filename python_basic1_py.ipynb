{
  "nbformat": 4,
  "nbformat_minor": 0,
  "metadata": {
    "colab": {
      "provenance": [],
      "authorship_tag": "ABX9TyN3VpawEaxfxEdVQT1fMHEq",
      "include_colab_link": true
    },
    "kernelspec": {
      "name": "python3",
      "display_name": "Python 3"
    },
    "language_info": {
      "name": "python"
    }
  },
  "cells": [
    {
      "cell_type": "markdown",
      "metadata": {
        "id": "view-in-github",
        "colab_type": "text"
      },
      "source": [
        "<a href=\"https://colab.research.google.com/github/mojahid-t17/python-practice/blob/main/python_basic1_py.ipynb\" target=\"_parent\"><img src=\"https://colab.research.google.com/assets/colab-badge.svg\" alt=\"Open In Colab\"/></a>"
      ]
    },
    {
      "cell_type": "code",
      "source": [
        "a=5\n",
        "print(type(a))\n",
        "b=True\n",
        "print(type(b))\n",
        "myList=['mehraj','sakib','tamim',23,True]\n",
        "print(myList)\n",
        "print(myList[2])\n",
        "#slice a list\n",
        "print(myList[1:3])\n",
        "print(type(myList))\n",
        "print(len(myList))\n",
        "print(list('python'))\n",
        "#split a list\n",
        "name=\"skaib al hasaan\"\n",
        "name2='sdkatrheaboxadon'\n",
        "print(name.split(\" \"))\n",
        "print(name2.split(\"a\"))\n",
        "colors=\"red,green,yellow,blue,orange,12\"\n",
        "c=colors.split(\",\")\n",
        "print('red' in c)\n",
        "#update a list\n",
        "colors=['red','greenn','yellow','black']\n",
        "colors[1:3]=['orange','magenta']\n",
        "print(colors)\n",
        "#list comphence\n",
        "nums=(1,2,3,5)\n",
        "squre=[num**2 for num in nums]\n",
        "print(squre)\n",
        "#tuple/string are immutable  and list are mutable . tuple(1,2,3)/ list[1,23,3]\n",
        "\n"
      ],
      "metadata": {
        "colab": {
          "base_uri": "https://localhost:8080/"
        },
        "id": "HPm-JpQSHl6b",
        "outputId": "3618454a-25f3-4d82-8502-74cae2d53312"
      },
      "execution_count": null,
      "outputs": [
        {
          "output_type": "stream",
          "name": "stdout",
          "text": [
            "<class 'int'>\n",
            "<class 'bool'>\n",
            "['mehraj', 'sakib', 'tamim', 23, True]\n",
            "tamim\n",
            "['sakib', 'tamim']\n",
            "<class 'list'>\n",
            "5\n",
            "['p', 'y', 't', 'h', 'o', 'n']\n",
            "['skaib', 'al', 'hasaan']\n",
            "['sdk', 'trhe', 'box', 'don']\n",
            "True\n",
            "['red', 'orange', 'magenta', 'black']\n",
            "[1, 4, 9, 25]\n"
          ]
        }
      ]
    },
    {
      "cell_type": "code",
      "execution_count": null,
      "metadata": {
        "colab": {
          "base_uri": "https://localhost:8080/"
        },
        "id": "UnMiDddhGxMT",
        "outputId": "c0a377b4-aa53-4614-b609-48baf9f571d0"
      },
      "outputs": [
        {
          "output_type": "stream",
          "name": "stdout",
          "text": [
            "[1, 8, 27, 125]\n"
          ]
        }
      ],
      "source": [
        "nums=(1,2,3,5)\n",
        "squre=[num**3 for num in nums]\n",
        "print(squre)"
      ]
    }
  ]
}
{
  "cells": [
    {
      "cell_type": "markdown",
      "metadata": {
        "id": "view-in-github",
        "colab_type": "text"
      },
      "source": [
        "<a href=\"https://colab.research.google.com/github/mojahid-t17/BasicPython-note/blob/main/merge_pdf.ipynb\" target=\"_parent\"><img src=\"https://colab.research.google.com/assets/colab-badge.svg\" alt=\"Open In Colab\"/></a>"
      ]
    },
    {
      "cell_type": "code",
      "execution_count": null,
      "metadata": {
        "colab": {
          "background_save": true
        },
        "id": "FLiLZ0_41TtP"
      },
      "outputs": [],
      "source": [
        "#merge pdf file\n",
        "!pip install PyPDF2\n",
        "from PyPDF2 import PdfWriter\n",
        "import os\n",
        "\n",
        "merger = PdfWriter()\n",
        "files = []\n",
        "for file in os.listdir():\n",
        "    if file.endswith(\".pdf\"):\n",
        "        files.append(file)\n",
        "\n",
        "\n",
        "for pdf in files:\n",
        "  merger.append(pdf)\n",
        "merger.write(\"merged-pdf.pdf\")\n",
        "merger.close()"
      ]
    },
    {
      "cell_type": "markdown",
      "metadata": {
        "id": "Hn06MSCl1FlJ"
      },
      "source": [
        "# New Section"
      ]
    }
  ],
  "metadata": {
    "colab": {
      "provenance": [],
      "authorship_tag": "ABX9TyP6uuVbyWD4KHp97Bd+FAip",
      "include_colab_link": true
    },
    "kernelspec": {
      "display_name": "Python 3",
      "name": "python3"
    },
    "language_info": {
      "name": "python"
    }
  },
  "nbformat": 4,
  "nbformat_minor": 0
}
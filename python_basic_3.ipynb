{
  "nbformat": 4,
  "nbformat_minor": 0,
  "metadata": {
    "colab": {
      "provenance": [],
      "toc_visible": true,
      "authorship_tag": "ABX9TyNjJoxlJN+l7PaXyAa/CiyK",
      "include_colab_link": true
    },
    "kernelspec": {
      "name": "python3",
      "display_name": "Python 3"
    },
    "language_info": {
      "name": "python"
    }
  },
  "cells": [
    {
      "cell_type": "markdown",
      "metadata": {
        "id": "view-in-github",
        "colab_type": "text"
      },
      "source": [
        "<a href=\"https://colab.research.google.com/github/mojahid-t17/python-practice/blob/main/python_basic_3.ipynb\" target=\"_parent\"><img src=\"https://colab.research.google.com/assets/colab-badge.svg\" alt=\"Open In Colab\"/></a>"
      ]
    },
    {
      "cell_type": "code",
      "execution_count": null,
      "metadata": {
        "colab": {
          "base_uri": "https://localhost:8080/"
        },
        "id": "v2fiVHrQHLKc",
        "outputId": "fdc124fa-67f5-426b-8938-8ad4a4f848eb"
      },
      "outputs": [
        {
          "output_type": "stream",
          "name": "stdout",
          "text": [
            "6\n",
            "15\n",
            "jalal ahmed abul\n"
          ]
        }
      ],
      "source": [
        "#function\n",
        "#declartioan of  a function\n",
        "def sum(a,b):\n",
        "  print(a+b)\n",
        "sum(2,4)\n",
        "\n",
        "def sum2 (*numbers):\n",
        "# here *numbers define a tople\n",
        "  sum=0\n",
        "  for num in numbers:\n",
        "    sum=sum+num\n",
        "  print(sum)\n",
        "sum2(1,2,3,4,5)\n",
        "\n",
        "def sum3(**name):\n",
        "  #here **name defines as a dictonary\n",
        "    print(name['fi_name'], name['m_name'],name['lst_name'])\n",
        "\n",
        "\n",
        "sum3(fi_name='jalal',m_name='ahmed', lst_name= 'abul' )"
      ]
    },
    {
      "cell_type": "code",
      "source": [
        "def res(**name):\n",
        "  # print(type(name))\n",
        "  print( name[\"fname\"], name[\"mname\"], name[\"lname\"])\n",
        "\n",
        "\n",
        "res(mname=\"Buchanan\", lname=\"Barnes\", fname=\"James\")"
      ],
      "metadata": {
        "colab": {
          "base_uri": "https://localhost:8080/"
        },
        "id": "ZQjsj2lsS1PR",
        "outputId": "c2e30e57-7127-4821-bbd7-3dd0e21990a3"
      },
      "execution_count": null,
      "outputs": [
        {
          "output_type": "stream",
          "name": "stdout",
          "text": [
            "James Buchanan Barnes\n"
          ]
        }
      ]
    }
  ]
}
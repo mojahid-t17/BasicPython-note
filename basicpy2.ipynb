{
  "nbformat": 4,
  "nbformat_minor": 0,
  "metadata": {
    "colab": {
      "provenance": [],
      "authorship_tag": "ABX9TyNfmPB9nfhr1I7FT2rg3FzX",
      "include_colab_link": true
    },
    "kernelspec": {
      "name": "python3",
      "display_name": "Python 3"
    },
    "language_info": {
      "name": "python"
    }
  },
  "cells": [
    {
      "cell_type": "markdown",
      "metadata": {
        "id": "view-in-github",
        "colab_type": "text"
      },
      "source": [
        "<a href=\"https://colab.research.google.com/github/mojahid-t17/python-practice/blob/main/basicpy2.ipynb\" target=\"_parent\"><img src=\"https://colab.research.google.com/assets/colab-badge.svg\" alt=\"Open In Colab\"/></a>"
      ]
    },
    {
      "cell_type": "code",
      "execution_count": null,
      "metadata": {
        "colab": {
          "base_uri": "https://localhost:8080/"
        },
        "id": "Gi3r5aiUJNvO",
        "outputId": "3f2903f5-42de-4461-b4ee-8029a5fdab08"
      },
      "outputs": [
        {
          "output_type": "stream",
          "name": "stdout",
          "text": [
            "{'blue', 1, 'red', 5, 23, 45}\n",
            "<class 'set'>\n",
            "asi\n",
            "11\n",
            "heello woorld\n",
            "zing\n"
          ]
        }
      ],
      "source": [
        "\n",
        "word=\"python basic\"\n",
        "print(word[-4:-1])\n",
        "#create a string and print the lenth\n",
        "newStr= \"hello world\"\n",
        "print(len(newStr))\n",
        "#create two str and concatenate them\n",
        "str1=\"heello\"\n",
        "str2=\"woorld\"\n",
        "res=str1+\" \"+str2\n",
        "print(res)\n",
        "#4 print a word using slice notation\n",
        "myStr= \"bazinga\"\n",
        "print(myStr[2:6])\n"
      ]
    },
    {
      "cell_type": "markdown",
      "source": [
        "#removing space\n",
        "rstrip()---remove from right\n",
        "lstrip()\n",
        "strip()\n",
        "#searching charachter from a string\n",
        ".starswitch()\n",
        ".endswitch()"
      ],
      "metadata": {
        "id": "Ru1Hxu2GNYX6"
      }
    },
    {
      "cell_type": "code",
      "source": [
        "str1= '     heelo world  '\n",
        "print(str1.strip())"
      ],
      "metadata": {
        "colab": {
          "base_uri": "https://localhost:8080/"
        },
        "id": "CUfToNWQANlb",
        "outputId": "ea6b2fb8-67aa-41d4-dd79-061ac79e6b66"
      },
      "execution_count": null,
      "outputs": [
        {
          "output_type": "stream",
          "name": "stdout",
          "text": [
            "heelo world\n"
          ]
        }
      ]
    },
    {
      "cell_type": "code",
      "source": [
        "string1=\"Becomes\"\n",
        "string2=\"becomes\"\n",
        "string3=\"Bear\"\n",
        "string4=\" bEautiful\"\n",
        "print(string1.lower().startswith(\"be\"))\n",
        "print(string2.lower().startswith(\"be\"))\n",
        "print(string3.lower().startswith(\"be\"))\n",
        "print(string4.strip().lower().startswith(\"be\"))"
      ],
      "metadata": {
        "colab": {
          "base_uri": "https://localhost:8080/"
        },
        "id": "rRvqcXX6NY1k",
        "outputId": "b873d6f8-595c-4c7b-b385-0d8aa737748c"
      },
      "execution_count": null,
      "outputs": [
        {
          "output_type": "stream",
          "name": "stdout",
          "text": [
            "True\n",
            "True\n",
            "True\n",
            "True\n"
          ]
        }
      ]
    },
    {
      "cell_type": "markdown",
      "source": [
        "take input"
      ],
      "metadata": {
        "id": "Crni9_0fNYWW"
      }
    },
    {
      "cell_type": "code",
      "source": [
        "x=input()\n",
        "print(len(x))"
      ],
      "metadata": {
        "colab": {
          "base_uri": "https://localhost:8080/"
        },
        "id": "6plHDnQRS-CL",
        "outputId": "c4925795-7565-43a0-e70e-fab11f2c436d"
      },
      "execution_count": null,
      "outputs": [
        {
          "output_type": "stream",
          "name": "stdout",
          "text": [
            "bangladesh\n",
            "10\n"
          ]
        }
      ]
    },
    {
      "cell_type": "markdown",
      "source": [
        "#find vowel and consunent from a string"
      ],
      "metadata": {
        "id": "PTOpRKOGTyp_"
      }
    },
    {
      "cell_type": "code",
      "source": [
        "str1=input(\"enter a string\")\n",
        "vowel=[]\n",
        "consunant=[]\n",
        "for char in str1:\n",
        "\n",
        "  if char in \"aeiouAEIOU\":\n",
        "    vowel.append(char)\n",
        "  else:\n",
        "    consunant.append(char)\n",
        "print(vowel)\n",
        "print(consunant)\n",
        "\n",
        "\n",
        "\n",
        "\n"
      ],
      "metadata": {
        "colab": {
          "base_uri": "https://localhost:8080/"
        },
        "id": "8bm2sbJcT5k1",
        "outputId": "52862e70-001d-4227-82bd-110cc56bf549"
      },
      "execution_count": null,
      "outputs": [
        {
          "output_type": "stream",
          "name": "stdout",
          "text": [
            "enter a stringjhojnApadf\n",
            "['o', 'A', 'a']\n",
            "['j', 'h', 'j', 'n', 'p', 'd', 'f']\n"
          ]
        }
      ]
    },
    {
      "cell_type": "code",
      "source": [
        "# .find() use to find a string when the string not found return -1\n",
        "name=\"hello world\";\n",
        "\n",
        "print(name.find(\"hello\"))\n",
        "#.replace(\"old\", \"new\")\n",
        "\n",
        "print(name.replace(\"world\",\"bd\"))\n",
        "#see the index use .index()\n",
        "print(name.index(\"or\"))"
      ],
      "metadata": {
        "colab": {
          "base_uri": "https://localhost:8080/"
        },
        "id": "52cg-NtEXIXs",
        "outputId": "2f9f3860-42dd-42bf-b790-cb856534aeb5"
      },
      "execution_count": null,
      "outputs": [
        {
          "output_type": "stream",
          "name": "stdout",
          "text": [
            "0\n",
            "hello bd\n",
            "7\n"
          ]
        }
      ]
    },
    {
      "cell_type": "markdown",
      "source": [
        "#math function\n",
        "round()-->use to round a number to nearest inreger\n",
        "abs()--> negative to positve\n",
        "pow()-->or x**y\n",
        "X^Y%Z-->pow(x,y,z)"
      ],
      "metadata": {
        "id": "_wjlKARQZsA-"
      }
    },
    {
      "cell_type": "markdown",
      "source": [
        "#DictionarY:\n",
        "capitals={\n",
        "    \"name\":\"dhaka\"\n",
        "    \"year\":2033\n",
        "}"
      ],
      "metadata": {
        "id": "tJY-DtY7a-H_"
      }
    },
    {
      "cell_type": "code",
      "source": [
        "capitals={\n",
        "    \"california\":\"sacramento\",\n",
        "    \"new york\":\"albany\", \"texas\":\"austin\"\n",
        "}\n",
        "print(capitals.values())\n",
        "print(capitals.keys())\n",
        "print(capitals[\"new york\"])\n",
        "#or\n",
        "print(capitals.get('new york'))\n",
        "# if .get(\" value\")-->\"value \"doesnt exist the return -->none\n",
        "print(capitals.get('bangladesh'))\n",
        "#IV. Accessing key-value pairs:\n",
        "print(capitals.items())\n",
        "#print the key value\n",
        "for key in capitals.keys():\n",
        "  print(f\"the capital of {key} is {capitals[key]}\")\n",
        "#another way\n",
        "print(\"another way\")\n",
        "for key,value in capitals.items():\n",
        "  print(f\"the capitals of {key} is {value}\")"
      ],
      "metadata": {
        "colab": {
          "base_uri": "https://localhost:8080/"
        },
        "id": "2ek_Rej-cclx",
        "outputId": "db8aad2d-5aab-4903-e080-e3b9a19a2fc5"
      },
      "execution_count": null,
      "outputs": [
        {
          "output_type": "stream",
          "name": "stdout",
          "text": [
            "dict_values(['sacramento', 'albany', 'austin'])\n",
            "dict_keys(['california', 'new york', 'texas'])\n",
            "albany\n",
            "albany\n",
            "None\n",
            "dict_items([('california', 'sacramento'), ('new york', 'albany'), ('texas', 'austin')])\n",
            "the capital of california is sacramento\n",
            "the capital of new york is albany\n",
            "the capital of texas is austin\n",
            "another way\n",
            "the capitals of california is sacramento\n",
            "the capitals of new york is albany\n",
            "the capitals of texas is austin\n"
          ]
        }
      ]
    },
    {
      "cell_type": "code",
      "source": [
        "word=\"python basic\"\n",
        "print(word[-4:-1])"
      ],
      "metadata": {
        "id": "mxB3E0wKcxoh",
        "outputId": "19d12c69-0269-41a0-bb22-8e5605daa916",
        "colab": {
          "base_uri": "https://localhost:8080/"
        }
      },
      "execution_count": null,
      "outputs": [
        {
          "output_type": "stream",
          "name": "stdout",
          "text": [
            "asi\n"
          ]
        }
      ]
    },
    {
      "cell_type": "code",
      "source": [
        "import time\n",
        "timestamp = time.strftime('%H:%M:%S')\n",
        "print(timestamp)\n",
        "timestamp = time.strftime('%H')\n",
        "print(timestamp)\n",
        "timestamp = time.strftime('%M')\n",
        "print(timestamp)\n",
        "timestamp = time.strftime('%S')\n",
        "print(timestamp)\n",
        "# https://docs.python.org/3/library/time.html#time.strftime"
      ],
      "metadata": {
        "colab": {
          "base_uri": "https://localhost:8080/"
        },
        "id": "5FNZUmLjFZs9",
        "outputId": "f401c6c1-cd6a-48b9-c51e-6eb964960d82"
      },
      "execution_count": null,
      "outputs": [
        {
          "output_type": "stream",
          "name": "stdout",
          "text": [
            "17:53:58\n",
            "17\n",
            "53\n",
            "58\n"
          ]
        }
      ]
    },
    {
      "cell_type": "code",
      "source": [
        "#match case:\n",
        "x = 4\n",
        "# x is the variable to match\n",
        "match x:\n",
        "    # if x is 0\n",
        "    case 0:\n",
        "        print(\"x is zero\")\n",
        "    # case with if-condition\n",
        "    case 4 if x % 2 == 0:\n",
        "        print(\"x % 2 == 0 and case is 4\")\n",
        "    # Empty case with if-condition\n",
        "    case _ if x < 10:\n",
        "        print(\"x is < 10\")\n",
        "    # default case(will only be matched if the above cases were not matched)\n",
        "    # so it is basically just an else:\n",
        "    case _:\n",
        "        print(x)\n"
      ],
      "metadata": {
        "colab": {
          "base_uri": "https://localhost:8080/"
        },
        "id": "B5_XfsJVHAGd",
        "outputId": "833ca84c-0de8-4e83-d878-88cc3a11c5ea"
      },
      "execution_count": null,
      "outputs": [
        {
          "output_type": "stream",
          "name": "stdout",
          "text": [
            "x % 2 == 0 and case is 4\n"
          ]
        }
      ]
    },
    {
      "cell_type": "markdown",
      "source": [
        "#set"
      ],
      "metadata": {
        "id": "pg37tFOgAqbn"
      }
    },
    {
      "cell_type": "code",
      "source": [
        "# sets:\n",
        "nums  = {1, 23, 45, 5, 23, \"red\", \"blue\"}\n",
        "print(nums)\n",
        "#declare empty set\n",
        "info=set()\n",
        "print(type(info))\n",
        "#I. union() and update():\n",
        "cities = {\"Tokyo\", \"Madrid\", \"Berlin\", \"Delhi\"}\n",
        "cities2 = {\"Tokyo\", \"Seoul\", \"Kabul\", \"Madrid\"}\n",
        "cities3=cities.union(cities2)\n",
        "cities4=cities.intersection(cities2)\n",
        "print(cities3)\n",
        "print(cities4)\n",
        "#update cities by city2--all the values like union\n",
        "# cities.update(cities2)\n",
        "# print(cities)\n",
        "\n",
        "#intersection_update updates the cities by the common values\n",
        "cities.intersection_update(cities2)\n",
        "print(cities)"
      ],
      "metadata": {
        "colab": {
          "base_uri": "https://localhost:8080/"
        },
        "id": "Y8c6aa2oAr3S",
        "outputId": "c77ebb3f-eb7b-4001-aeb0-115cc2837714"
      },
      "execution_count": null,
      "outputs": [
        {
          "output_type": "stream",
          "name": "stdout",
          "text": [
            "{'blue', 1, 'red', 5, 23, 45}\n",
            "<class 'set'>\n",
            "{'Berlin', 'Tokyo', 'Kabul', 'Delhi', 'Madrid', 'Seoul'}\n",
            "{'Tokyo', 'Madrid'}\n",
            "{'Tokyo', 'Madrid'}\n"
          ]
        }
      ]
    },
    {
      "cell_type": "code",
      "source": [
        "#III. symmetric_difference and symmetric_difference_update():\n",
        "#The symmetric_difference() and symmetric_difference_update() methods prints only items that are\n",
        "#              not similar to both the sets.(remove the common element)\n",
        "cities = {\"Tokyo\", \"Madrid\", \"Berlin\", \"Delhi\"}\n",
        "cities2 = {\"Tokyo\", \"Seoul\", \"Kabul\", \"Madrid\"}\n",
        "cities3=cities.symmetric_difference(cities2)\n",
        "print(cities3)\n",
        "cities2.symmetric_difference_update(cities)\n",
        "print(cities2)"
      ],
      "metadata": {
        "colab": {
          "base_uri": "https://localhost:8080/"
        },
        "id": "PCLSIUQAMbtl",
        "outputId": "513f54ee-6249-4844-f8e6-fce29e83748a"
      },
      "execution_count": null,
      "outputs": [
        {
          "output_type": "stream",
          "name": "stdout",
          "text": [
            "{'Berlin', 'Kabul', 'Delhi', 'Seoul'}\n",
            "{'Berlin', 'Kabul', 'Delhi', 'Seoul'}\n"
          ]
        }
      ]
    },
    {
      "cell_type": "code",
      "source": [
        "#IV. difference() and difference_update(): ----  a\\b or a-b\n",
        "#The difference() and difference_update() methods prints only items that are only present in the original set and not in both the sets.\n",
        "a={3,5,6,2,9,4,7,8}\n",
        "b={4,5,6}\n",
        "c= a.difference(b)\n",
        "print(c)"
      ],
      "metadata": {
        "colab": {
          "base_uri": "https://localhost:8080/"
        },
        "id": "nrDbcXjqNr0M",
        "outputId": "4660ae54-1622-4a96-b6eb-1e27f47a2145"
      },
      "execution_count": null,
      "outputs": [
        {
          "output_type": "stream",
          "name": "stdout",
          "text": [
            "{2, 3, 7, 8, 9}\n"
          ]
        }
      ]
    },
    {
      "cell_type": "markdown",
      "source": [
        "#Set **Methods**"
      ],
      "metadata": {
        "id": "77vKt-rPO24O"
      }
    },
    {
      "cell_type": "code",
      "source": [
        "#isdisjoint():check is the two set are not intersect--return true\n",
        "a={3,5,6,2,9,4,7,8}\n",
        "b={33,55,22,34}\n",
        "print(a.isdisjoint(b))\n",
        "#superset and subset()\n",
        "x= {1,2,3,4,5,6,7}\n",
        "y={3,4,5}\n",
        "print(x.issuperset(y))\n",
        "print(y.issuperset(x))\n",
        "print(y.issubset(x))"
      ],
      "metadata": {
        "colab": {
          "base_uri": "https://localhost:8080/"
        },
        "id": "pQoiChduO51i",
        "outputId": "aeff589c-3c70-48f8-b5d3-44469d7d7271"
      },
      "execution_count": null,
      "outputs": [
        {
          "output_type": "stream",
          "name": "stdout",
          "text": [
            "True\n",
            "True\n",
            "False\n",
            "True\n"
          ]
        }
      ]
    },
    {
      "cell_type": "code",
      "source": [
        "x= {1,2,3,4,5,6,7}\n",
        "y={3,4,5}\n",
        "x.add(44)\n",
        "print(x)\n",
        "#remove and discurd\n",
        "#remove exit when the element are present otherwise through error\n",
        "#discard doesnt through error when the element are not present\n",
        "x.remove(3)\n",
        "print(x)\n",
        "# x.remove(88)\n",
        "# print(x)\n",
        "x.discard(88)\n",
        "print(x)\n",
        "x.discard(44)\n",
        "print(x)"
      ],
      "metadata": {
        "colab": {
          "base_uri": "https://localhost:8080/"
        },
        "id": "8ZM0dro4SRvy",
        "outputId": "08131abf-1541-4105-ed43-3946740770d1"
      },
      "execution_count": null,
      "outputs": [
        {
          "output_type": "stream",
          "name": "stdout",
          "text": [
            "{1, 2, 3, 4, 5, 6, 7, 44}\n",
            "{1, 2, 4, 5, 6, 7, 44}\n",
            "{1, 2, 4, 5, 6, 7, 44}\n",
            "{1, 2, 4, 5, 6, 7}\n"
          ]
        }
      ]
    },
    {
      "cell_type": "code",
      "source": [
        "#pop() ----remove last item\n",
        "x= {1,2,3,4,5,6,7}\n",
        "print(x)\n",
        "y={3,4,5}\n",
        "x.pop()\n",
        "print(x)"
      ],
      "metadata": {
        "colab": {
          "base_uri": "https://localhost:8080/"
        },
        "id": "p65935oRTP4f",
        "outputId": "0a824c3f-b8fb-4c5c-a7c2-1e7e480e8f78"
      },
      "execution_count": null,
      "outputs": [
        {
          "output_type": "stream",
          "name": "stdout",
          "text": [
            "{1, 2, 3, 4, 5, 6, 7}\n",
            "{2, 3, 4, 5, 6, 7}\n"
          ]
        }
      ]
    },
    {
      "cell_type": "code",
      "source": [
        "cities = {\"Tokyo\", \"Madrid\", \"Berlin\", \"Delhi\"}\n",
        "item = cities.pop()\n",
        "print(cities)\n",
        "print(item)"
      ],
      "metadata": {
        "colab": {
          "base_uri": "https://localhost:8080/"
        },
        "id": "XTZxqtUsUpQT",
        "outputId": "76f1ee66-aca1-4c4e-ddbf-2ec31e3f2a99"
      },
      "execution_count": null,
      "outputs": [
        {
          "output_type": "stream",
          "name": "stdout",
          "text": [
            "{'Tokyo', 'Madrid', 'Delhi'}\n",
            "Berlin\n"
          ]
        }
      ]
    },
    {
      "cell_type": "code",
      "source": [
        "#del and clear()\n",
        "#del remove the variable and clear only remove the value\n",
        "x= {4,3,2,1}\n",
        "y={5,6,7,8,9}\n",
        "del x\n",
        "# print(x)\n",
        "y.clear()\n",
        "print(y)"
      ],
      "metadata": {
        "colab": {
          "base_uri": "https://localhost:8080/"
        },
        "id": "bunVDAgYUwW9",
        "outputId": "cf191342-27ce-44fa-84b3-aa615a3352b4"
      },
      "execution_count": null,
      "outputs": [
        {
          "output_type": "stream",
          "name": "stdout",
          "text": [
            "set()\n"
          ]
        }
      ]
    }
  ]
}